{
 "cells": [
  {
   "cell_type": "code",
   "execution_count": 5,
   "id": "7fab984d",
   "metadata": {},
   "outputs": [
    {
     "name": "stdout",
     "output_type": "stream",
     "text": [
      "['b', 'k', 'v', 'g', 'a']\n",
      "['a', 'b', 'g', 'k', 'v']\n",
      "['a', 'b', 'g', 'k', 'v']\n",
      "['b', 'k', 'v', 'g', 'a']\n"
     ]
    }
   ],
   "source": [
    "import random as rd\n",
    "\n",
    "def rand_str(n):\n",
    "    alphabet='qwertyuiopasdfghjklzxcvbnm'\n",
    "    string=[]\n",
    "    for i in range(n):\n",
    "        string+=rd.choice(alphabet)\n",
    "    return string\n",
    "\n",
    "s1=rand_str(5)\n",
    "first_list=list(s1)\n",
    "copy_list=first_list\n",
    "second_list=list(s1)\n",
    "print(first_list)\n",
    "first_list.sort()\n",
    "print(first_list)\n",
    "print(copy_list) #notice that the copy list is also sorted\n",
    "print(second_list)"
   ]
  },
  {
   "cell_type": "code",
   "execution_count": null,
   "id": "e5e2353c",
   "metadata": {},
   "outputs": [],
   "source": []
  }
 ],
 "metadata": {
  "kernelspec": {
   "display_name": "Python 3 (ipykernel)",
   "language": "python",
   "name": "python3"
  },
  "language_info": {
   "codemirror_mode": {
    "name": "ipython",
    "version": 3
   },
   "file_extension": ".py",
   "mimetype": "text/x-python",
   "name": "python",
   "nbconvert_exporter": "python",
   "pygments_lexer": "ipython3",
   "version": "3.8.9"
  }
 },
 "nbformat": 4,
 "nbformat_minor": 5
}
